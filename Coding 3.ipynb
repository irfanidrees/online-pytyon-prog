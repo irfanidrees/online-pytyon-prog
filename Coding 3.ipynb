{
 "cells": [
  {
   "cell_type": "code",
   "execution_count": 7,
   "id": "56f72eaa",
   "metadata": {},
   "outputs": [
    {
     "name": "stdout",
     "output_type": "stream",
     "text": [
      "Twinke, twinkle, little star,\n",
      "         How I wonder what you are!\n",
      "                 Up above the world so high,\n",
      "                 Like a diamond in the sky,\n",
      "Twinke, twinkle, little star,\n",
      "         How I wonder what you are!\n"
     ]
    }
   ],
   "source": [
    "# QNo. 1\n",
    "print(\"Twinke, twinkle, little star,\")\n",
    "print(\"         How I wonder what you are!\")\n",
    "print(\"                 Up above the world so high,\")\n",
    "print(\"                 Like a diamond in the sky,\")\n",
    "print(\"Twinke, twinkle, little star,\")\n",
    "print(\"         How I wonder what you are!\")\n"
   ]
  },
  {
   "cell_type": "code",
   "execution_count": 6,
   "id": "e6c06db5",
   "metadata": {},
   "outputs": [
    {
     "name": "stdout",
     "output_type": "stream",
     "text": [
      "now = 2021-10-24 18:49:09.963294\n"
     ]
    }
   ],
   "source": [
    "# QNo. 3\n",
    "from datetime import datetime\n",
    "now = datetime.now()\n",
    " \n",
    "print(\"Date and Time =\", now)\n"
   ]
  },
  {
   "cell_type": "code",
   "execution_count": 13,
   "id": "2f99d021",
   "metadata": {},
   "outputs": [
    {
     "name": "stdout",
     "output_type": "stream",
     "text": [
      "Value 1....12\n",
      "Value 2....24\n",
      "Total is 36\n"
     ]
    }
   ],
   "source": [
    "# QNo. 5\n",
    "\n",
    "A= int(input(\"Value 1....\"))\n",
    "B= int(input(\"Value 2....\"))\n",
    "\n",
    "print(\"Total is\", A+B)\n",
    "\n"
   ]
  },
  {
   "cell_type": "code",
   "execution_count": null,
   "id": "5f5abc13",
   "metadata": {},
   "outputs": [],
   "source": [
    "# QNo. 6\n",
    "\n",
    "First= input(\"First Name....\")\n",
    "Last= input(\"Last Name.....\")\n",
    "\n",
    "print(\"Your Name is ...\", Last + \"\" + First);"
   ]
  },
  {
   "cell_type": "code",
   "execution_count": null,
   "id": "8a04c354",
   "metadata": {},
   "outputs": [],
   "source": [
    "# QNo. 7\n",
    "v1= int(input(\"Maths Marks...\"))\n",
    "v2= int(input(\"English Marks...\"))\n",
    "v3= int(input(\"Urdu Marks...\"))\n",
    "v4= int(input(\"Islamiat Marks...\"))\n",
    "v5= int(input(\"Pak Studies Marks...\"))\n",
    "\n",
    "S=v1+v2+v3+v4+v5\n",
    "T=S/500*100\n",
    "\n",
    "if(T>=80):\n",
    "    print(\"A1\");\n",
    "elif (T>=70 and T<80):\n",
    "    print(\"A\");\n",
    "elif (T>=60 and T<70):\n",
    "    print(\"B\");\n",
    "elif (T>=50 and T<60):\n",
    "    print(\"C\");\n",
    "else:\n",
    "    print(\"Failed...\")"
   ]
  },
  {
   "cell_type": "code",
   "execution_count": null,
   "id": "42b01787",
   "metadata": {},
   "outputs": [],
   "source": [
    "# QNo. 8\n",
    "v1= int(input(\"Number...\"))\n",
    "\n",
    "if(v1%2==0):\n",
    "    print(\"Even Number...\")\n",
    "else:\n",
    "    print(\"Odd Number...\")\n"
   ]
  },
  {
   "cell_type": "code",
   "execution_count": null,
   "id": "566f8b5d",
   "metadata": {},
   "outputs": [],
   "source": [
    "# QNo. 9\n",
    "v1= input(\"Name Please...\")\n",
    "\n",
    "print(\"Lenght of Value entered is \" , len(v1))\n"
   ]
  },
  {
   "cell_type": "code",
   "execution_count": null,
   "id": "fcbfc127",
   "metadata": {},
   "outputs": [],
   "source": [
    "# QNo. 10\n",
    "It = [1,2,3,4,5]\n",
    "T= It[0]+ It[1]+ It[2]+ It[3]+ It[4]\n",
    "\n",
    "print(\"Sum of Items...\", T)\n",
    "\n"
   ]
  },
  {
   "cell_type": "code",
   "execution_count": null,
   "id": "49218a36",
   "metadata": {},
   "outputs": [],
   "source": [
    "# QNo. 11\n",
    "*It = [1,2,3,4,5]\n",
    "\n",
    "\n",
    "\n",
    "\n"
   ]
  },
  {
   "cell_type": "code",
   "execution_count": null,
   "id": "d56f77a8",
   "metadata": {},
   "outputs": [],
   "source": [
    "# QNo. 12\n",
    "a = [1, 1, 2, 3, 5, 8, 13, 21, 34, 55, 89];\n",
    "\n",
    "\n",
    "\n",
    "\n",
    "\n"
   ]
  }
 ],
 "metadata": {
  "kernelspec": {
   "display_name": "Python 3",
   "language": "python",
   "name": "python3"
  },
  "language_info": {
   "codemirror_mode": {
    "name": "ipython",
    "version": 3
   },
   "file_extension": ".py",
   "mimetype": "text/x-python",
   "name": "python",
   "nbconvert_exporter": "python",
   "pygments_lexer": "ipython3",
   "version": "3.8.8"
  }
 },
 "nbformat": 4,
 "nbformat_minor": 5
}
